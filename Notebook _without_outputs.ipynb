{
  "cells": [
    {
      "cell_type": "markdown",
      "metadata": {
        "id": "VTvr4_sti9Am"
      },
      "source": [
        "# Inroduction\n"
      ]
    },
    {
      "cell_type": "markdown",
      "metadata": {
        "id": "Rm8HKcygh4L2"
      },
      "source": [
        "This sample notebook demonstrates how to process live data streams using Pathway. The dataset used here is a subset of the one provided — specifically, it includes data for only a single parking spot. You are expected to implement your model across all parking spots.\n",
        "\n",
        "Please note that the pricing model used in this notebook is a simple baseline. You are expected to design and implement a more advanced and effective model.\n"
      ]
    },
    {
      "cell_type": "code",
      "execution_count": null,
      "metadata": {
        "id": "LlwkKnB50IGF"
      },
      "outputs": [],
      "source": [
        "!pip install pathway bokeh --quiet # This cell may take a few seconds to execute."
      ]
    },
    {
      "cell_type": "code",
      "source": [
        "!pip install -U pathway"
      ],
      "metadata": {
        "id": "O4mCb4Z-whWr"
      },
      "execution_count": null,
      "outputs": []
    },
    {
      "cell_type": "code",
      "execution_count": null,
      "metadata": {
        "id": "pHuc1nkJveN3"
      },
      "outputs": [],
      "source": [
        "import numpy as np\n",
        "import pandas as pd\n",
        "import matplotlib.pyplot as plt\n",
        "import datetime\n",
        "from datetime import datetime\n",
        "import pathway as pw\n",
        "import bokeh.plotting\n",
        "import panel as pn"
      ]
    },
    {
      "cell_type": "markdown",
      "metadata": {
        "id": "gGpZl1FxjFXE"
      },
      "source": [
        "# Step 1: Importing and Preprocessing the Data"
      ]
    },
    {
      "cell_type": "code",
      "execution_count": null,
      "metadata": {
        "id": "4D6geoV9veN3"
      },
      "outputs": [],
      "source": [
        "#df = pd.read_csv('/content/Modified - modified (1).csv')  \"C:\\Users\\lasya\\Downloads\\dataset.csv\"\n",
        "#df\n",
        "\n",
        "# You can find the sample dataset here: https://drive.google.com/file/d/1D479FLjp9aO3Mg8g6Lpj9oRViWacurA6/view?usp=sharing"
      ]
    },
    {
      "cell_type": "code",
      "source": [
        "from google.colab import files\n",
        "uploaded = files.upload()"
      ],
      "metadata": {
        "id": "9jNYLjG1K_hu"
      },
      "execution_count": null,
      "outputs": []
    },
    {
      "cell_type": "code",
      "source": [
        "df= pd.read_csv ('dataset.csv')\n",
        "df.head()"
      ],
      "metadata": {
        "id": "4gIYy6dZMm6P"
      },
      "execution_count": null,
      "outputs": []
    },
    {
      "cell_type": "code",
      "execution_count": null,
      "metadata": {
        "id": "QBrvlQTjveN4"
      },
      "outputs": [],
      "source": [
        "# Combine the 'LastUpdatedDate' and 'LastUpdatedTime' columns into a single datetime column\n",
        "df['Timestamp'] = pd.to_datetime(df['LastUpdatedDate'] + ' ' + df['LastUpdatedTime'],\n",
        "                                  format='%d-%m-%Y %H:%M:%S')\n",
        "\n",
        "# Sort the DataFrame by the new 'Timestamp' column and reset the index\n",
        "df = df.sort_values('Timestamp').reset_index(drop=True)\n",
        "df.head()"
      ]
    },
    {
      "cell_type": "code",
      "source": [
        "#df.to_csv('dataset_clean.csv', index=False)\n",
        "\n",
        "\n",
        "df_cleaned = df[['Timestamp', 'Occupancy', 'Capacity', 'QueueLength',\n",
        "                 'TrafficConditionNearby', 'IsSpecialDay', 'VehicleType']]\n",
        "\n",
        "df_cleaned.to_csv(\"final_input.csv\", index=False)\n",
        "\n",
        "print(df_cleaned.head())\n",
        "print(df_cleaned.columns)"
      ],
      "metadata": {
        "id": "k6FmHK_mdekv"
      },
      "execution_count": null,
      "outputs": []
    },
    {
      "cell_type": "code",
      "source": [
        "from google.colab import files\n",
        "files.download(\"final_input.csv\")"
      ],
      "metadata": {
        "id": "-jUMSXOf-gq4"
      },
      "execution_count": null,
      "outputs": []
    },
    {
      "cell_type": "code",
      "source": [
        "df.VehicleType.unique()\n",
        "df.TrafficConditionNearby.unique()"
      ],
      "metadata": {
        "id": "-keP8ovfbbuA"
      },
      "execution_count": null,
      "outputs": []
    },
    {
      "cell_type": "code",
      "source": [
        "# Set base price and alpha\n",
        "base_price = 10\n",
        "alpha = 4  # checked manually for the best values\n",
        "\n",
        "# Create a new column to store model 1 price\n",
        "df['price_model1'] = np.nan\n",
        "\n",
        "# Get unique parking lot IDs\n",
        "lot_ids = df['ID'].unique()\n",
        "\n",
        "# Apply the price logic per lot\n",
        "for lot in lot_ids:\n",
        "    lot_mask = df['ID'] == lot\n",
        "    lot_df = df[lot_mask]\n",
        "\n",
        "    # Initial price\n",
        "    prev_price = base_price\n",
        "    prices = []\n",
        "\n",
        "    for _, row in lot_df.iterrows():\n",
        "        occ = row['Occupancy']\n",
        "        cap = row['Capacity']\n",
        "        occ_ratio = occ / cap if cap > 0 else 0  # avoid division by 0\n",
        "\n",
        "        # Model 1 formula: price = prev_price + alpha * (occupancy/capacity)\n",
        "        current_price = prev_price + alpha * occ_ratio\n",
        "        prices.append(current_price)\n",
        "\n",
        "        # Update for next step\n",
        "        prev_price = current_price\n",
        "\n",
        "    # Assign prices back into the main dataframe\n",
        "    df.loc[lot_mask, 'price_model1'] = prices"
      ],
      "metadata": {
        "id": "KJO-PuDzgC-Y"
      },
      "execution_count": null,
      "outputs": []
    },
    {
      "cell_type": "code",
      "source": [
        "# Vehicle weights\n",
        "vehicle_weights = {\n",
        "    'car': 1.0,\n",
        "    'bike': 0.5,\n",
        "    'cycle': 0.2,\n",
        "    'truck': 1.5\n",
        "}\n",
        "df['vehicle_weight'] = df['VehicleType'].map(vehicle_weights).fillna(1.0)\n",
        "\n",
        "# Traffic weights: low = 1, average = 2, high = 3\n",
        "traffic_weights = {\n",
        "    'low': 1,\n",
        "    'average': 2,\n",
        "    'high': 3\n",
        "}\n",
        "df['traffic_level'] = df['TrafficConditionNearby'].map(traffic_weights).fillna(1)"
      ],
      "metadata": {
        "id": "_gn2J25Kurgq"
      },
      "execution_count": null,
      "outputs": []
    },
    {
      "cell_type": "code",
      "source": [
        "# Set the weights for each feature\n",
        "a = 0.4  # occupancy\n",
        "b = 0.3  # queue\n",
        "c = 0.2  # traffic (penalty)\n",
        "d = 0.1  # special day\n",
        "e = 0.3  # vehicle type\n",
        "\n",
        "# Avoid division by zero\n",
        "df['Capacity'] = df['Capacity'].replace(0, 1)\n",
        "\n",
        "# Demand Score\n",
        "df['demand_score'] = (\n",
        "    a * (df['Occupancy'] / df['Capacity']) +\n",
        "    b * df['QueueLength'] -\n",
        "    c * df['traffic_level'] +\n",
        "    d * df['IsSpecialDay'] +\n",
        "    e * df['vehicle_weight']\n",
        ")"
      ],
      "metadata": {
        "id": "AlwdxCfVu3b4"
      },
      "execution_count": null,
      "outputs": []
    },
    {
      "cell_type": "code",
      "source": [
        "# Normalize demand to [0, 1]\n",
        "min_d = df['demand_score'].min()\n",
        "max_d = df['demand_score'].max()\n",
        "\n",
        "df['demand_normalized'] = (df['demand_score'] - min_d) / (max_d - min_d)\n",
        "\n",
        "base_price = 10\n",
        "lambda_ = 0.5  # strength of demand effect\n",
        "\n",
        "df['price_model2'] = base_price * (1 + lambda_ * df['demand_normalized'])\n",
        "\n",
        "# Clip price between $5 and $20\n",
        "df['price_model2'] = df['price_model2'].clip(lower=5, upper=20)"
      ],
      "metadata": {
        "id": "is4wrQS6vMdY"
      },
      "execution_count": null,
      "outputs": []
    },
    {
      "cell_type": "code",
      "source": [
        "df.head()"
      ],
      "metadata": {
        "id": "xJZxKEIqmal1"
      },
      "execution_count": null,
      "outputs": []
    },
    {
      "cell_type": "code",
      "source": [
        "print(df.columns)"
      ],
      "metadata": {
        "id": "iaFnbUz7C9FO"
      },
      "execution_count": null,
      "outputs": []
    },
    {
      "cell_type": "code",
      "source": [
        "df['SystemCodeNumber'].unique()"
      ],
      "metadata": {
        "id": "jEOgMLmT_HaR"
      },
      "execution_count": null,
      "outputs": []
    },
    {
      "cell_type": "code",
      "source": [
        "lot_code = 'BHMBCCMKT01'\n",
        "\n",
        "lot_df = df[df['SystemCodeNumber'] == lot_code].copy()\n"
      ],
      "metadata": {
        "id": "JUZHkfLF_Rt0"
      },
      "execution_count": null,
      "outputs": []
    },
    {
      "cell_type": "code",
      "source": [
        "import matplotlib.pyplot as plt\n",
        "\n",
        "plt.figure(figsize=(12, 6))\n",
        "plt.plot(lot_df['Timestamp'], lot_df['price_model1'], label='Model 1 (Linear)', marker='o')\n",
        "plt.plot(lot_df['Timestamp'], lot_df['price_model2'], label='Model 2 (Demand-Based)', marker='s')\n",
        "plt.xlabel('Timestamp')\n",
        "plt.ylabel('Price ($)')\n",
        "plt.title(f'Price Comparison for Lot: {lot_code}')\n",
        "plt.xticks(rotation=45)\n",
        "plt.legend()\n",
        "plt.grid(True)\n",
        "plt.tight_layout()\n",
        "plt.show()"
      ],
      "metadata": {
        "id": "YvAaq2Xt_o_R"
      },
      "execution_count": null,
      "outputs": []
    },
    {
      "cell_type": "markdown",
      "metadata": {
        "id": "JNDR7r4DqkhI"
      },
      "source": [
        "# Step 2: Making a simple pricing function"
      ]
    },
    {
      "cell_type": "code",
      "source": [
        "import pathway as pw"
      ],
      "metadata": {
        "id": "kfX3FW1Ylqhz"
      },
      "execution_count": null,
      "outputs": []
    },
    {
      "cell_type": "code",
      "source": [
        "import csv\n",
        "\n",
        "with open(\"final_input.csv\", \"r\") as f:\n",
        "    reader = csv.DictReader(f)\n",
        "    print(reader.fieldnames)"
      ],
      "metadata": {
        "id": "2nVGXS-8h5Nl"
      },
      "execution_count": null,
      "outputs": []
    },
    {
      "cell_type": "code",
      "source": [
        "import pathway as pw\n",
        "from datetime import timedelta\n",
        "\n",
        "@pw.udf\n",
        "def map_vehicle_type(vtype: str) -> float:\n",
        "    mapping = {'car': 1.0, 'bike': 0.5, 'truck': 1.5, 'cycle': 0.2}\n",
        "    return mapping.get(vtype, 1.0)\n",
        "\n",
        "@pw.udf\n",
        "def map_traffic(level: str) -> int:\n",
        "    mapping = {'low': 1, 'average': 2, 'high': 3}\n",
        "    return mapping.get(level, 1)"
      ],
      "metadata": {
        "id": "_JzTZIgK0ckr"
      },
      "execution_count": null,
      "outputs": []
    },
    {
      "cell_type": "code",
      "source": [
        "@pw.udf\n",
        "def clip_price(value: float, min_val: float = 5.0, max_val: float = 20.0) -> float:\n",
        "    return max(min(value, max_val), min_val)"
      ],
      "metadata": {
        "id": "nzU3UMeh4Bwy"
      },
      "execution_count": null,
      "outputs": []
    },
    {
      "cell_type": "code",
      "source": [],
      "metadata": {
        "id": "aJS_WjYzrMjU"
      },
      "execution_count": null,
      "outputs": []
    },
    {
      "cell_type": "code",
      "source": [
        "class ParkingSchema(pw.Schema):\n",
        "    Timestamp: str\n",
        "    Occupancy: int\n",
        "    Capacity: int\n",
        "    QueueLength: int\n",
        "    TrafficConditionNearby: str\n",
        "    IsSpecialDay: int\n",
        "    VehicleType: str\n",
        "\n"
      ],
      "metadata": {
        "id": "5oUIRCpw0dy1"
      },
      "execution_count": null,
      "outputs": []
    },
    {
      "cell_type": "code",
      "source": [
        "from datetime import timedelta\n",
        "\n",
        "# Read stream and attach parsed_time from internal timestamp\n",
        "data = pw.demo.replay_csv(\n",
        "    \"final_input.csv\",\n",
        "    schema=ParkingSchema,\n",
        "    input_rate=1000\n",
        ")\n",
        "\n",
        "# Format timestamp\n",
        "fmt = \"%Y-%m-%d %H:%M:%S\"\n",
        "data_with_time = data.with_columns(\n",
        "    t=data.Timestamp.dt.strptime(fmt),\n",
        "    day=data.Timestamp.dt.strptime(fmt).dt.strftime(\"%Y-%m-%dT00:00:00\")\n",
        ")"
      ],
      "metadata": {
        "id": "f1gzkPCwcBb5"
      },
      "execution_count": null,
      "outputs": []
    },
    {
      "cell_type": "code",
      "source": [
        "from datetime import timedelta\n",
        "\n",
        "reduced_window = data_with_time.windowby(\n",
        "    pw.this.t,\n",
        "    instance=pw.this.day,\n",
        "    window=pw.temporal.tumbling(duration=timedelta(days=1)),\n",
        "    behavior=pw.temporal.exactly_once_behavior()\n",
        ").reduce(\n",
        "    t = pw.this._pw_window_end,\n",
        "    occupancy = pw.reducers.max(pw.this.Occupancy),\n",
        "    capacity = pw.reducers.max(pw.this.Capacity),\n",
        "    queue = pw.reducers.max(pw.this.QueueLength),\n",
        "    traffic = pw.reducers.max(pw.this.TrafficConditionNearby),\n",
        "    special_day = pw.reducers.max(pw.this.IsSpecialDay),\n",
        "    vehicle = pw.reducers.max(pw.this.VehicleType),\n",
        "\n",
        ")"
      ],
      "metadata": {
        "id": "P2vL1utYBjcM"
      },
      "execution_count": null,
      "outputs": []
    },
    {
      "cell_type": "code",
      "source": [
        "final_output = reduced_window.with_columns(\n",
        "    vehicle_weight = map_vehicle_type(pw.this.vehicle),\n",
        "\n",
        "    demand = (\n",
        "        0.4 * (pw.this.occupancy / pw.this.capacity) +\n",
        "        0.3 * pw.this.queue -\n",
        "        0.2 * map_traffic(pw.this.traffic) +\n",
        "        0.1 * pw.this.special_day +\n",
        "        0.3 * map_vehicle_type(pw.this.vehicle)\n",
        "    ),\n",
        "\n",
        "    demand_clamped = clip_price(\n",
        "        0.4 * (pw.this.occupancy / pw.this.capacity) +\n",
        "        0.3 * pw.this.queue -\n",
        "        0.2 * map_traffic(pw.this.traffic) +\n",
        "        0.1 * pw.this.special_day +\n",
        "        0.3 * map_vehicle_type(pw.this.vehicle), 0, 1\n",
        "    ),\n",
        "\n",
        "    price_model1 = clip_price(10 + 4 * (pw.this.occupancy / pw.this.capacity)),\n",
        "\n",
        "    price_model2 = clip_price(\n",
        "        10 * (1 + 0.5 * clip_price(\n",
        "            0.4 * (pw.this.occupancy / pw.this.capacity) +\n",
        "            0.3 * pw.this.queue -\n",
        "            0.2 * map_traffic(pw.this.traffic) +\n",
        "            0.1 * pw.this.special_day +\n",
        "            0.3 * map_vehicle_type(pw.this.vehicle), 0, 1\n",
        "        ))\n",
        "    )\n",
        ")"
      ],
      "metadata": {
        "id": "N8lunIjBAsTM"
      },
      "execution_count": null,
      "outputs": []
    },
    {
      "cell_type": "code",
      "source": [
        "print(data.schema)"
      ],
      "metadata": {
        "id": "G3JUkhnrAm3H"
      },
      "execution_count": null,
      "outputs": []
    },
    {
      "cell_type": "markdown",
      "metadata": {
        "id": "E3sMSFtUqvax"
      },
      "source": [
        "# Step 3: Visualizing Daily Price Fluctuations with a Bokeh Plot"
      ]
    },
    {
      "cell_type": "code",
      "source": [
        "import pandas as pd\n",
        "from bokeh.plotting import figure, show, output_notebook\n",
        "from bokeh.models import Legend\n",
        "output_notebook()"
      ],
      "metadata": {
        "id": "7PuzRc4NlmH7"
      },
      "execution_count": null,
      "outputs": []
    },
    {
      "cell_type": "code",
      "source": [
        "from pathway.io.python import write, ConnectorObserver"
      ],
      "metadata": {
        "id": "wur5dkbbxOaT"
      },
      "execution_count": null,
      "outputs": []
    },
    {
      "cell_type": "code",
      "source": [
        "import os\n",
        "if os.path.exists(\"output_prices.csv\"):\n",
        "    os.remove(\"output_prices.csv\")"
      ],
      "metadata": {
        "id": "DbWQYIx-YkD8"
      },
      "execution_count": null,
      "outputs": []
    },
    {
      "cell_type": "code",
      "source": [
        "from pathway.internals import cast\n",
        "\n",
        "pw.io.csv.write(\n",
        "    final_output.select(\n",
        "        t = pw.this.t,\n",
        "\n",
        "        price_model1 = cast(float, pw.this.price_model1),\n",
        "        price_model2 = cast(float, pw.this.price_model2)\n",
        "    ),\n",
        "    filename=\"output_prices.csv\"\n",
        ")"
      ],
      "metadata": {
        "id": "ILw7TFXUYPPP"
      },
      "execution_count": null,
      "outputs": []
    },
    {
      "cell_type": "code",
      "source": [
        "pw.run()"
      ],
      "metadata": {
        "id": "hV8I7UrTyOyy"
      },
      "execution_count": null,
      "outputs": []
    },
    {
      "cell_type": "code",
      "source": [
        "!head -n 15 output_prices.csv"
      ],
      "metadata": {
        "id": "ClmcwQBhXFrE"
      },
      "execution_count": null,
      "outputs": []
    },
    {
      "cell_type": "code",
      "source": [
        "'''import pandas as pd\n",
        "df = pd.read_csv(\"output_prices.csv\")\n",
        "df.head()'''"
      ],
      "metadata": {
        "id": "gx1Oaxn6WjCE"
      },
      "execution_count": null,
      "outputs": []
    },
    {
      "cell_type": "code",
      "source": [
        "import pandas as pd\n",
        "from bokeh.plotting import figure, show, output_notebook\n",
        "from bokeh.models import HoverTool\n",
        "from bokeh.layouts import column\n",
        "\n",
        "output_notebook()"
      ],
      "metadata": {
        "id": "6BYmrkWqyOgA"
      },
      "execution_count": null,
      "outputs": []
    },
    {
      "cell_type": "code",
      "source": [
        "df = pd.read_csv(\"output_prices.csv\", on_bad_lines='skip')\n",
        "# Let pandas infer the format for more flexibility\n",
        "df['t'] = pd.to_datetime(df['t'], errors='coerce')\n",
        "df = df.dropna(subset=['t']) # Drop rows where 't' could not be parsed\n",
        "df = df.sort_values('t')  # sort by time (optional but cleaner)"
      ],
      "metadata": {
        "id": "OvodbvcKFu1h"
      },
      "execution_count": null,
      "outputs": []
    },
    {
      "cell_type": "code",
      "source": [
        "# Final edited code\n",
        "# Read stream directly without windowing or reducing\n",
        "data = pw.demo.replay_csv(\n",
        "    \"final_input.csv\",\n",
        "    schema=ParkingSchema,\n",
        "    input_rate=1000 # Adjust as needed\n",
        ")\n",
        "\n",
        "# Format timestamp (still needed for plotting later)\n",
        "fmt = \"%Y-%m-%d %H:%M:%S\"\n",
        "data_with_time = data.with_columns(\n",
        "    t=data.Timestamp.dt.strptime(fmt)\n",
        ")\n",
        "\n",
        "# Apply the pricing logic directly to each row - chained with_columns\n",
        "final_output = data_with_time.with_columns(\n",
        "    # Define foundational columns\n",
        "    vehicle_weight = map_vehicle_type(pw.this.VehicleType),\n",
        ").with_columns(\n",
        "    traffic_level = map_traffic(pw.this.TrafficConditionNearby)\n",
        ").with_columns(\n",
        "    capacity_safe = pw.if_else(pw.this.Capacity != 0, pw.this.Capacity, 1),\n",
        ").with_columns(\n",
        "    # Calculate raw demand, handling potential None values and division by zero\n",
        "    raw_demand = (\n",
        "        0.4 * pw.if_else(\n",
        "            pw.this.capacity_safe == 0,\n",
        "            0.0, # Default to 0 if capacity_safe is 0\n",
        "            pw.if_else(pw.this.Occupancy.is_none(), 0.0, pw.this.Occupancy) / pw.if_else(pw.this.capacity_safe.is_none(), 1.0, pw.this.capacity_safe)\n",
        "        ) +\n",
        "        0.3 * pw.if_else(pw.this.QueueLength.is_none(), 0.0, pw.this.QueueLength) -\n",
        "        0.2 * pw.if_else(pw.this.traffic_level.is_none(), 1.0, pw.this.traffic_level) +\n",
        "        0.1 * pw.if_else(pw.this.IsSpecialDay.is_none(), 0.0, pw.this.IsSpecialDay) +\n",
        "        0.3 * pw.if_else(pw.this.vehicle_weight.is_none(), 1.0, pw.this.vehicle_weight)\n",
        "    )\n",
        ").with_columns(\n",
        "    # Clip demand to [0, 1] using pw.if_else\n",
        "    demand_clipped_for_price2 = pw.if_else(\n",
        "        pw.this.raw_demand < 0.0, 0.0,\n",
        "        pw.if_else(pw.this.raw_demand > 1.0, 1.0, pw.this.raw_demand)\n",
        "    )\n",
        ").with_columns(\n",
        "    # Model 1 raw price calculation, handling potential division by zero\n",
        "    price_model1_raw = 10.0 + 4.0 * pw.if_else(\n",
        "        pw.this.capacity_safe == 0,\n",
        "        0.0, # Default to 0 if capacity_safe is 0\n",
        "        pw.if_else(pw.this.Occupancy.is_none(), 0.0, pw.this.Occupancy) / pw.if_else(pw.this.capacity_safe.is_none(), 1.0, pw.this.capacity_safe)\n",
        "    )\n",
        ").with_columns(\n",
        "    # Apply clipping to price_model1_raw using pw.if_else\n",
        "    price_model1 = pw.if_else(\n",
        "        pw.this.price_model1_raw < 5.0, 5.0,\n",
        "        pw.if_else(pw.this.price_model1_raw > 20.0, 20.0, pw.this.price_model1_raw)\n",
        "    )\n",
        ").with_columns(\n",
        "    # Model 2 raw price calculation using clipped demand\n",
        "    price_model2_raw = 10.0 * (1.0 + 0.5 * pw.this.demand_clipped_for_price2)\n",
        ").with_columns(\n",
        "    # Apply clipping to price_model2_raw using pw.if_else\n",
        "    price_model2 = pw.if_else(\n",
        "        pw.this.price_model2_raw < 5.0, 5.0,\n",
        "        pw.if_else(pw.this.price_model2_raw > 20.0, 20.0, pw.this.price_model2_raw)\n",
        "    )\n",
        ")\n",
        "\n",
        "\n",
        "# Print the schema of the output table to verify columns\n",
        "print(final_output.schema)\n",
        "\n",
        "# Write the output to a CSV file\n",
        "import os\n",
        "if os.path.exists(\"output_prices_full.csv\"):\n",
        "    os.remove(\"output_prices_full.csv\")\n",
        "\n",
        "# Select columns for writing\n",
        "pw.io.csv.write(\n",
        "    final_output.select(\n",
        "        Timestamp = pw.this.Timestamp, # Keep original timestamp if desired\n",
        "        t = pw.this.t, # Or the parsed datetime object\n",
        "        price_model1 = pw.this.price_model1,\n",
        "        price_model2 = pw.this.price_model2\n",
        "    ),\n",
        "    filename=\"output_prices_full.csv\"\n",
        ")\n",
        "\n",
        "# Run the Pathway pipeline\n",
        "pw.run()\n",
        "\n",
        "# Verify the output file\n",
        "!head -n 15 output_prices_full.csv\n",
        "\n",
        "# Read the output file into a pandas DataFrame to check the number of rows\n",
        "output_notebook()\n",
        "df_full = pd.read_csv(\"output_prices_full.csv\", on_bad_lines='skip')\n",
        "# Let pandas infer the format for more flexibility\n",
        "df_full['t'] = pd.to_datetime(df_full['t'], errors='coerce')\n",
        "df_full = df_full.dropna(subset=['t']) # Drop rows where 't' could not be parsed\n",
        "df_full = df_full.sort_values('t')  # sort by time (optional but cleaner)\n",
        "\n",
        "print(df_full.shape)\n",
        "print(df_full.head())"
      ],
      "metadata": {
        "id": "-206A_WDuCVz"
      },
      "execution_count": null,
      "outputs": []
    },
    {
      "cell_type": "code",
      "source": [
        "# Final code for bokeh graph\n",
        "p = figure(\n",
        "    title=\"Model 1 vs Model 2 Parking Prices Over Time (Full Data)\",\n",
        "    x_axis_type='datetime',\n",
        "    width=900,\n",
        "    height=400\n",
        ")\n",
        "\n",
        "p.line(df_full['t'], df_full['price_model1'], legend_label=\"Model 1 (Full)\", line_width=2, color=\"blue\")\n",
        "p.line(df_full['t'], df_full['price_model2'], legend_label=\"Model 2 (Full)\", line_width=2, color=\"orange\")\n",
        "\n",
        "# Tooltips for interactivity\n",
        "hover = HoverTool(\n",
        "    tooltips=[\n",
        "        (\"Time\", \"@x{%F %T}\"),\n",
        "        (\"Model 1 Price\", \"@y{0.00}\"),\n",
        "        (\"Model 2 Price\", \"@y{0.00}\") # Adjust tooltip to show price for the line being hovered over\n",
        "    ],\n",
        "    formatters={'@x': 'datetime'},\n",
        "    mode='vline'\n",
        ")\n",
        "\n",
        "p.add_tools(hover)\n",
        "\n",
        "p.xaxis.axis_label = \"Time\"\n",
        "p.yaxis.axis_label = \"Price\"\n",
        "p.legend.location = \"top_left\"\n",
        "p.title.text_font_size = \"16pt\"\n",
        "\n",
        "show(p)\n"
      ],
      "metadata": {
        "id": "Me5F84gdv7OZ"
      },
      "execution_count": null,
      "outputs": []
    }
  ],
  "metadata": {
    "colab": {
      "provenance": []
    },
    "kaggle": {
      "accelerator": "none",
      "dataSources": [
        {
          "datasetId": 7749157,
          "sourceId": 12294858,
          "sourceType": "datasetVersion"
        }
      ],
      "dockerImageVersionId": 31040,
      "isGpuEnabled": false,
      "isInternetEnabled": true,
      "language": "python",
      "sourceType": "notebook"
    },
    "kernelspec": {
      "display_name": "Python 3",
      "language": "python",
      "name": "python3"
    },
    "language_info": {
      "codemirror_mode": {
        "name": "ipython",
        "version": 3
      },
      "file_extension": ".py",
      "mimetype": "text/x-python",
      "name": "python",
      "nbconvert_exporter": "python",
      "pygments_lexer": "ipython3",
      "version": "3.11.11"
    }
  },
  "nbformat": 4,
  "nbformat_minor": 0
}